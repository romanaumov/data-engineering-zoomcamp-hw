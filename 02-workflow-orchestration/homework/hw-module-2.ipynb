{
 "cells": [
  {
   "cell_type": "markdown",
   "metadata": {},
   "source": [
    "### Question 1.\n",
    "\n",
    "Within the execution for Yellow Taxi data for the year 2020 and month 12: what is the uncompressed file size (i.e. the output file yellow_tripdata_2020-12.csv of the extract task)?\n",
    "\n",
    "- 128.3 MB\n",
    "- 134.5 MB\n",
    "- 364.7 MB\n",
    "- 692.6 MB\n",
    "\n",
    "\n",
    "#### Answer:  `128.3 MB`"
   ]
  },
  {
   "cell_type": "markdown",
   "metadata": {},
   "source": [
    "### Question 2.\n",
    "\n",
    "What is the rendered value of the variable `file` when the inputs `taxi` is set to `green`, `year` is set to `2020`, and `month` is set to `04` during execution?\n",
    "\n",
    "\n",
    "- `{{inputs.taxi}}_tripdata_{{inputs.year}}-{{inputs.month}}.csv` \n",
    "- `green_tripdata_2020-04.csv`\n",
    "- `green_tripdata_04_2020.csv`\n",
    "- `green_tripdata_2020.csv`\n",
    "\n",
    "#### Answer: `green_tripdata_2020-04.csv`"
   ]
  },
  {
   "cell_type": "markdown",
   "metadata": {},
   "source": [
    "### Question 3. \n",
    "\n",
    "How many rows are there for the `Yellow` Taxi data for all CSV files in the year 2020?\n",
    "\n",
    "- 13,537.299\n",
    "- 24,648,499\n",
    "- 18,324,219\n",
    "- 29,430,127\n",
    "\n",
    "#### Answer: 24,648,499"
   ]
  },
  {
   "cell_type": "markdown",
   "metadata": {},
   "source": [
    "### Question 4. \n",
    "\n",
    "How many rows are there for the `Green` Taxi data for all CSV files in the year 2020?\n",
    "\n",
    "- 5,327,301\n",
    "- 936,199\n",
    "- 1,734,051\n",
    "- 1,342,034\n",
    "\n",
    "#### Answer: 1,734,051"
   ]
  },
  {
   "cell_type": "markdown",
   "metadata": {},
   "source": [
    "### Question 5. \n",
    "\n",
    "How many rows are there for the `Yellow` Taxi data for the March 2021 CSV file?\n",
    "\n",
    "- 1,428,092\n",
    "- 706,911\n",
    "- 1,925,152\n",
    "- 2,561,031\n",
    "\n",
    "#### Answer: 1,925,152"
   ]
  },
  {
   "cell_type": "markdown",
   "metadata": {},
   "source": [
    "### Question 6. \n",
    "\n",
    "How would you configure the timezone to New York in a Schedule trigger?\n",
    "\n",
    "- Add a `timezone` property set to `EST` in the `Schedule` trigger configuration  \n",
    "- Add a `timezone` property set to `America/New_York` in the `Schedule` trigger configuration\n",
    "- Add a `timezone` property set to `UTC-5` in the `Schedule` trigger configuration\n",
    "- Add a `location` property set to `New_York` in the `Schedule` trigger configuration  \n",
    "\n",
    "#### Answer: Add a `timezone` property set to `America/New_York` in the `Schedule` trigger configuration"
   ]
  }
 ],
 "metadata": {
  "kernelspec": {
   "display_name": "Python 3 (ipykernel)",
   "language": "python",
   "name": "python3"
  },
  "language_info": {
   "codemirror_mode": {
    "name": "ipython",
    "version": 3
   },
   "file_extension": ".py",
   "mimetype": "text/x-python",
   "name": "python",
   "nbconvert_exporter": "python",
   "pygments_lexer": "ipython3",
   "version": "3.11.5"
  }
 },
 "nbformat": 4,
 "nbformat_minor": 4
}
